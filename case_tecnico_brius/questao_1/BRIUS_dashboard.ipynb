{
 "cells": [
  {
   "cell_type": "code",
   "execution_count": 2,
   "metadata": {},
   "outputs": [],
   "source": [
    "import pandas_gbq as gbq\n",
    "from scipy import stats\n",
    "import dash\n",
    "from dash import dcc\n",
    "from dash import html\n",
    "from dash.dependencies import Input, Output\n",
    "import folium\n",
    "from folium.plugins import HeatMap\n",
    "from geopy.geocoders import Nominatim\n",
    "import plotly.express as px\n",
    "import numpy as np\n",
    "\n",
    "dataset_store =\"bigquery-public-data.google_analytics_sample.ga_sessions_*\"\n",
    "PROJECT_ID=\"testebrius\"\n",
    "REGION = \"US\""
   ]
  },
  {
   "cell_type": "markdown",
   "metadata": {},
   "source": [
    "### Queries SQL para extração de dados de produtos\n",
    "\n",
    "Queries em SQL para extração de dados de produtos de um banco de dados de uma loja virtual e das informações geográficas dos clientes que acessaram o site da loja.\n",
    "\n",
    "Para identificar a área da loja, assumi que a categoria do produto fornece essa informação.\n",
    "Além disso, para os produtos, não considerei transações nulas.\n"
   ]
  },
  {
   "cell_type": "code",
   "execution_count": 39,
   "metadata": {},
   "outputs": [],
   "source": [
    "# Consulta SQL - Vendas por Produto, Categoria, Receita, Dispositivo e Transações\n",
    "sql_product = f\"\"\"\n",
    "SELECT\n",
    "    product.v2ProductName AS product_name,\n",
    "    product.v2ProductCategory AS product_category,\n",
    "    product.productPrice AS product_price,\n",
    "    product.productRevenue AS product_revenue,\n",
    "    trafficSource.source AS traffic_source,\n",
    "    trafficSource.medium AS traffic_medium,\n",
    "    trafficSource.campaign AS traffic_campaign,\n",
    "    device.deviceCategory AS device_category,\n",
    "    device.operatingSystem AS device_os,\n",
    "    device.browser AS device_browser,\n",
    "    device.isMobile AS device_is_mobile,\n",
    "    hits.transaction.transactionRevenue AS transaction_revenue\n",
    "FROM\n",
    "    `{dataset_store}`, UNNEST(hits) AS hits, UNNEST(hits.product) AS product\n",
    "WHERE\n",
    "    hits.transaction.transactionRevenue IS NOT NULL    \n",
    ";\n",
    "\"\"\"\n",
    "\n",
    "# Consulta SQL - Vendas por País, Cidade e Dispositivo\n",
    "sql_map = f\"\"\"\n",
    "SELECT \n",
    "  geoNetwork.country AS country,\n",
    "  geoNetwork.city AS city,\n",
    "  device.deviceCategory AS device_category,  \n",
    "  COUNT(*) AS total_accesses,\n",
    "  SUM(IF(hits.transaction.transactionRevenue IS NOT NULL, 1, 0)) AS total_purchases\n",
    "FROM `{dataset_store}`, UNNEST(hits) AS hits\n",
    "GROUP BY country, city, device_category\n",
    "ORDER BY total_accesses DESC;\n",
    "\"\"\""
   ]
  },
  {
   "cell_type": "markdown",
   "metadata": {},
   "source": [
    "### Extração dos dados do BigQuery e criação dos dataframes\n",
    "\n",
    "Além de extrair os dados dos produtos, aqui também é criado o mapa de calor para visualização dos usuários que acessaram o site e realizararam compras. \n",
    "\n",
    "Esse método é bastante demorado, então é recomendado que essa etapa seja pulada e o arquivo salvo em disco country_df.csv seja carregado."
   ]
  },
  {
   "cell_type": "code",
   "execution_count": null,
   "metadata": {},
   "outputs": [],
   "source": [
    "df_products = gbq.read_gbq(sql_product, project_id=PROJECT_ID)\n",
    "country_df = gbq.read_gbq(sql_map, project_id=PROJECT_ID)\n",
    "\n",
    "#verifica se o html do mapa já foi criado - se não, cria\n",
    "# Filtrando dados para plotar no mapa (usaremos apenas os dados de cidades conhecidas)\n",
    "country_df = country_df[country_df['city'] != 'not available in demo dataset']\n",
    "\n",
    "# Adicionar uma coluna com latitudes e longitudes das cidades usando a biblioteca geopy.Nominatim\n",
    "geolocator = Nominatim(user_agent=\"geoapiExercises\")\n",
    "\n",
    "def get_lat_lon(city, country):\n",
    "    try:\n",
    "        location = geolocator.geocode(f\"{city}, {country}\")\n",
    "        return location.latitude, location.longitude\n",
    "    except:\n",
    "        return None, None\n",
    "\n",
    "country_df['latitude'], country_df['longitude'] = zip(*country_df.apply(lambda row: get_lat_lon(row['city'], row['country']), axis=1))\n",
    "\n",
    "# Filtrar as linhas onde a localização é válida\n",
    "country_df = country_df.dropna(subset=['latitude', 'longitude'])\n",
    "\n",
    "# Criar o mapa com folium\n",
    "map_access = folium.Map(location=[0, 0], zoom_start=2)\n",
    "\n",
    "# Adicionar os pontos de calor\n",
    "heat_data = [[row['latitude'], row['longitude'], row['total_accesses']] for index, row in country_df.iterrows()]\n",
    "HeatMap(heat_data).add_to(map_access)\n",
    "\n",
    "# Salvar o mapa em um arquivo HTML\n",
    "map_access.save('mapa_acessos.html')\n",
    "\n",
    "# Ajustar valores de moedas\n",
    "df_products['product_price'] = df_products['product_price'] / 1000000\n",
    "df_products['product_revenue'] = df_products['product_revenue'] / 1000000\n",
    "df_products['transaction_revenue'] = df_products['transaction_revenue'] / 1000000"
   ]
  },
  {
   "cell_type": "markdown",
   "metadata": {},
   "source": [
    "### Carregamento dos dataframes do disco\n",
    "\n",
    "Carregamento dos dataframes do disco para evitar a execução do código anterior. \n",
    "O dataframe de clientes é carregado do arquivo country_df.csv e já se encontra tratado com as informações de latitude e longitude."
   ]
  },
  {
   "cell_type": "code",
   "execution_count": 3,
   "metadata": {},
   "outputs": [],
   "source": [
    "import pandas as pd\n",
    "df_products = pd.read_csv('df_products.csv')\n",
    "country_df = pd.read_csv('country_df.csv')"
   ]
  },
  {
   "cell_type": "markdown",
   "metadata": {},
   "source": [
    "### Análise exploratóiria para identificar missing values e outliers\n",
    "\n",
    "Análise exploratória dos dados para identificar potenciais nulls, outliers e inconsistências nos dados. Isso foi realizado através de queries no dataframe que filtraram e agruparam a fim de indentificar potenciais nulos ou valores fora do esperado. \n",
    "\n",
    "Um exemplo está na coluna de product_category, que apresenta diversos (not set) e um caso de erro de inserção de dados, que salvou uma categoria como ${productitem.product.origCatName}. Optei por substituir os valores faltantes nas colunas e os outliers por \"não especificado\" ao montar o dashboard, dessa forma se tem uma perda mínima de dados e a visualização se torna mais clara.\n"
   ]
  },
  {
   "cell_type": "code",
   "execution_count": 8,
   "metadata": {},
   "outputs": [
    {
     "data": {
      "text/plain": [
       "array(['Apparel', 'Drinkware', 'Google', 'Office', 'Bags', 'Headgear',\n",
       "       'Electronics', 'Lifestyle', '${productitem.product.origCatName}',\n",
       "       'Accessories', 'Bottles', 'Gift Cards', 'Waze', 'More Bags',\n",
       "       'Backpacks', 'Notebooks & Journals', '(not set)', 'Housewares',\n",
       "       'Fun', 'Android', 'Tumblers'], dtype=object)"
      ]
     },
     "execution_count": 8,
     "metadata": {},
     "output_type": "execute_result"
    }
   ],
   "source": [
    "df_products['product_category'].unique()"
   ]
  },
  {
   "cell_type": "code",
   "execution_count": 4,
   "metadata": {},
   "outputs": [
    {
     "data": {
      "text/plain": [
       "product_name           0.000000\n",
       "product_category       0.218702\n",
       "product_price          0.000000\n",
       "product_revenue        0.000000\n",
       "traffic_source         0.000000\n",
       "traffic_medium         0.000027\n",
       "traffic_campaign       0.978092\n",
       "device_category        0.000000\n",
       "device_os              0.000000\n",
       "device_browser         0.000000\n",
       "device_is_mobile       0.000000\n",
       "transaction_revenue    0.000000\n",
       "dtype: float64"
      ]
     },
     "execution_count": 4,
     "metadata": {},
     "output_type": "execute_result"
    }
   ],
   "source": [
    "#give the percentage of occurences of (not set) in each column of the dataframe\n",
    "df_products.isin(['(not set)']).mean()"
   ]
  },
  {
   "cell_type": "code",
   "execution_count": 10,
   "metadata": {},
   "outputs": [
    {
     "data": {
      "text/plain": [
       "product_name           0.000000\n",
       "product_category       0.007566\n",
       "product_price          0.000000\n",
       "product_revenue        0.000000\n",
       "traffic_source         0.000000\n",
       "traffic_medium         0.000000\n",
       "traffic_campaign       0.000000\n",
       "device_category        0.000000\n",
       "device_os              0.000000\n",
       "device_browser         0.000000\n",
       "device_is_mobile       0.000000\n",
       "transaction_revenue    0.000000\n",
       "dtype: float64"
      ]
     },
     "execution_count": 10,
     "metadata": {},
     "output_type": "execute_result"
    }
   ],
   "source": [
    "#give the percentage of occurences of ${productitem.product.origCatName} in each column of the dataframe\n",
    "df_products.isin(['${productitem.product.origCatName}']).mean()"
   ]
  },
  {
   "cell_type": "code",
   "execution_count": 11,
   "metadata": {},
   "outputs": [
    {
     "data": {
      "text/plain": [
       "product_name           0.0\n",
       "product_category       0.0\n",
       "product_price          0.0\n",
       "product_revenue        0.0\n",
       "traffic_source         0.0\n",
       "traffic_medium         0.0\n",
       "traffic_campaign       0.0\n",
       "device_category        0.0\n",
       "device_os              0.0\n",
       "device_browser         0.0\n",
       "device_is_mobile       0.0\n",
       "transaction_revenue    0.0\n",
       "dtype: float64"
      ]
     },
     "execution_count": 11,
     "metadata": {},
     "output_type": "execute_result"
    }
   ],
   "source": [
    "# look for missing values\n",
    "df_products.isnull().mean()"
   ]
  },
  {
   "cell_type": "code",
   "execution_count": 12,
   "metadata": {},
   "outputs": [
    {
     "data": {
      "text/plain": [
       "Unnamed: 0         0.0\n",
       "country            0.0\n",
       "city               0.0\n",
       "device_category    0.0\n",
       "total_accesses     0.0\n",
       "total_purchases    0.0\n",
       "latitude           0.0\n",
       "longitude          0.0\n",
       "dtype: float64"
      ]
     },
     "execution_count": 12,
     "metadata": {},
     "output_type": "execute_result"
    }
   ],
   "source": [
    "#look for missing values\n",
    "country_df.isnull().mean()"
   ]
  },
  {
   "cell_type": "code",
   "execution_count": 13,
   "metadata": {},
   "outputs": [
    {
     "data": {
      "text/plain": [
       "Unnamed: 0         0.000000\n",
       "country            0.000000\n",
       "city               0.003947\n",
       "device_category    0.000000\n",
       "total_accesses     0.000000\n",
       "total_purchases    0.000000\n",
       "latitude           0.000000\n",
       "longitude          0.000000\n",
       "dtype: float64"
      ]
     },
     "execution_count": 13,
     "metadata": {},
     "output_type": "execute_result"
    }
   ],
   "source": [
    "#give the percentage of occurences of (not set) in each column of the country_df dataframe\n",
    "country_df.isin(['(not set)']).mean()"
   ]
  },
  {
   "cell_type": "code",
   "execution_count": 14,
   "metadata": {},
   "outputs": [],
   "source": [
    "# Substituir valores ausentes por 'não especificado'\n",
    "df_products['product_category'] = df_products['product_category'].replace('(not set)', 'não especificado')\n",
    "df_products['product_category'] = df_products['product_category'].replace('${productitem.product.origCatName}', 'não especificado')\n",
    "df_products['traffic_source'] = df_products['traffic_source'].replace('(not set)', 'não especificado')\n",
    "df_products['traffic_campaign'] = df_products['traffic_campaign'].replace('(not set)', 'não especificado')\n",
    "df_products['traffic_medium'] = df_products['traffic_medium'].replace('(not set)', 'não especificado')"
   ]
  },
  {
   "cell_type": "code",
   "execution_count": 15,
   "metadata": {},
   "outputs": [],
   "source": [
    "# remover os valores ausentes de cidade, uma vez que são poucos\n",
    "country_df = country_df[country_df['city'] != '(not set)']"
   ]
  },
  {
   "cell_type": "markdown",
   "metadata": {},
   "source": [
    "#### Análises estatísticas e conclusões iniciais que podem ser extraídas dos dados\n",
    "\n",
    "Foram utilzadas Análise de Variância (ANOVA) e Teste Shapiro-Wilk para verificar a normalidade dos dados e a presença de outliers"
   ]
  },
  {
   "cell_type": "code",
   "execution_count": 30,
   "metadata": {},
   "outputs": [
    {
     "name": "stdout",
     "output_type": "stream",
     "text": [
      "\n",
      "Resultados ANOVA para comparação de receitas entre categorias de produtos: 27.781257 ,  com p-value: 4.617863859987335e-99\n",
      "Resultados ANOVA para comparação de preços entre categorias de produtos: 508.274940 ,  com p-value: 0.0\n",
      "Teste Shapiro-Wilk test para distribuição de receita de produtos: 0.180389 ,  com p-value: 3.820136839163841e-148\n",
      "\n",
      "Existe alguma área da loja que tem mais vendas que as outras?\n",
      "\n",
      "A área da loja com mais vendas é: Apparel com receita total de 517059920079.00\n",
      "\n",
      "Existe algum produto que tenha destaque?\n",
      "\n",
      "O produto com mais destaque é: Google Men's  Zip Hoodie com receita total de 47636271605.00\n",
      "\n",
      "Alguma distribuição possui alguma informação relevante?\n",
      "\n",
      "A distribuição das receitas dos produtos não é normal.\n",
      "Há diferenças significativas entre as receitas das diferentes áreas da loja.\n",
      "Há diferenças significativas entre os preços dos produtos das diferentes áreas da loja.\n"
     ]
    }
   ],
   "source": [
    "import warnings\n",
    "warnings.filterwarnings('ignore')\n",
    "\n",
    "area_sales = df_products.groupby('product_category')['product_revenue'].sum().reset_index()\n",
    "area_sales = area_sales.sort_values(by='product_revenue', ascending=False)\n",
    "\n",
    "product_sales = df_products.groupby('product_name')['product_revenue'].sum().reset_index()\n",
    "product_sales = product_sales.sort_values(by='product_revenue', ascending=False)\n",
    "\n",
    "# Teste ANOVA para comparar as receitas entre categorias\n",
    "anova_result_receita = stats.f_oneway(*[df_products[df_products['product_category'] == cat]['product_revenue'] for cat in df_products['product_category'].unique()])\n",
    "print()\n",
    "print(f\"Resultados ANOVA para comparação de receitas entre categorias de produtos: {anova_result_receita.statistic:.6f} ,  com p-value: {anova_result_receita.pvalue}\")\n",
    "\n",
    "# Teste ANOVA sobre os preços dos produtos\n",
    "anova_result_price = stats.f_oneway(*[df_products[df_products['product_category'] == cat]['product_price'] for cat in df_products['product_category'].unique()])\n",
    "\n",
    "print(f\"Resultados ANOVA para comparação de preços entre categorias de produtos: {anova_result_price.statistic:.6f} ,  com p-value: {anova_result_price.pvalue}\")\n",
    "\n",
    "\n",
    "shapiro_result_receita = stats.shapiro(df_products['product_revenue'])\n",
    "print(f\"Teste Shapiro-Wilk test para distribuição de receita de produtos: {shapiro_result_receita.statistic:.6f} ,  com p-value: {shapiro_result_receita.pvalue}\")\n",
    "\n",
    "# Conclusões\n",
    "print(\"\\nExiste alguma área da loja que tem mais vendas que as outras?\\n\")\n",
    "top_area = area_sales.iloc[0]\n",
    "print(f\"A área da loja com mais vendas é: {top_area['product_category']} com receita total de {top_area['product_revenue']:.2f}\")\n",
    "\n",
    "print(\"\\nExiste algum produto que tenha destaque?\\n\")\n",
    "top_product = product_sales.iloc[0]\n",
    "print(f\"O produto com mais destaque é: {top_product['product_name']} com receita total de {top_product['product_revenue']:.2f}\")\n",
    "\n",
    "print(\"\\nAlguma distribuição possui alguma informação relevante?\\n\")\n",
    "\n",
    "if shapiro_result_receita.pvalue < 0.05:\n",
    "    print(\"A distribuição das receitas dos produtos não é normal.\")\n",
    "else:\n",
    "    print(\"A distribuição das receitas dos produtos é normal.\")\n",
    "\n",
    "if anova_result_receita.pvalue < 0.05:\n",
    "    print(\"Há diferenças significativas entre as receitas das diferentes áreas da loja.\")\n",
    "else:\n",
    "    print(\"Não há diferenças significativas entre as receitas das diferentes áreas da loja.\")\n",
    "    \n",
    "if anova_result_price.pvalue < 0.05:\n",
    "    print(\"Há diferenças significativas entre os preços dos produtos das diferentes áreas da loja.\")\n",
    "else:\n",
    "    print(\"Não há diferenças significativas entre os preços dos produtos das diferentes áreas da loja.\")"
   ]
  },
  {
   "cell_type": "markdown",
   "metadata": {},
   "source": [
    "### Dashboard de visualização de dados\n",
    "\n",
    "Esse dashboard apresenta uma visualização intuitiva e de fácil manipulação das distribuições, rankings e comparações dos produtos, além de um mapa-mundi contendo a distribuição dos usuários que acessaram o site por cidade, permitindo filtrar pelos usuários que realizaram compras.\n",
    "\n",
    "Esta visualização é essencial para identificar regiões com maior potencial de crescimento e direcionar campanhas de marketing de forma mais eficaz. A visualização em forma de mapa de calor foi escolhida para mostrar a densidade de clientes em cada região de forma mais evidente.\n",
    "\n",
    "Também é possível avaliar a receita de acordo com o tipo de dispositivo, Sistema Operacional e navegador utilzado pelos clientes, permitindo criar campanhas de marketing direcionadas de acordo com o perfil dos usuários, ao mesmo tempo que fornece insights valiosos para a equipe de desenvolvimento.\n",
    "\n",
    "Ao subir o servidor, é possível visualizar o dashboard em http://localhost:8050/\n"
   ]
  },
  {
   "cell_type": "code",
   "execution_count": 31,
   "metadata": {},
   "outputs": [
    {
     "data": {
      "text/html": [
       "\n",
       "        <iframe\n",
       "            width=\"100%\"\n",
       "            height=\"650\"\n",
       "            src=\"http://127.0.0.1:8050/\"\n",
       "            frameborder=\"0\"\n",
       "            allowfullscreen\n",
       "            \n",
       "        ></iframe>\n",
       "        "
      ],
      "text/plain": [
       "<IPython.lib.display.IFrame at 0x7938d1040830>"
      ]
     },
     "metadata": {},
     "output_type": "display_data"
    }
   ],
   "source": [
    "# 1. Receita por Área da Loja (Categoria)\n",
    "area_sales = df_products.groupby('product_category')['product_revenue'].sum().reset_index()\n",
    "area_sales = area_sales.sort_values(by='product_revenue', ascending=False)\n",
    "\n",
    "fig1 = px.bar(area_sales, x='product_category', y='product_revenue', title='Receita Total por Área da Loja (Categoria)', labels={'product_category': 'Área da Loja (Categoria)', 'product_revenue': 'Receita Total'})\n",
    "\n",
    "# 2. Top 10 Produtos por Receita\n",
    "product_sales = df_products.groupby('product_name')['product_revenue'].sum().reset_index()\n",
    "product_sales = product_sales.sort_values(by='product_revenue', ascending=False).head(10)\n",
    "\n",
    "fig2 = px.bar(product_sales, x='product_revenue', y='product_name', orientation='h', title='Top 10 Produtos por Receita', labels={'product_name': 'Produto', 'product_revenue': 'Receita Total'})\n",
    "\n",
    "# 3. Distribuição das Receitas dos Produtos\n",
    "fig3 = px.histogram(df_products, x='product_revenue', nbins=50, title='Distribuição das Receitas dos Produtos', labels={'product_revenue': 'Receita do Produto', 'count': 'Frequência'})\n",
    "\n",
    "# Análise de receita total por traffic_source, traffic_medium, traffic_campaign, device_category, device_os, device_browser, device_is_mobile\n",
    "traffic_source_sales = df_products.groupby('traffic_source')['product_revenue'].sum().reset_index().sort_values(by='product_revenue', ascending=False)\n",
    "fig4 = px.bar(traffic_source_sales, x='product_revenue', y='traffic_source', orientation='h', title='Receita Total por Fonte de Tráfego', labels={'traffic_source': 'Fonte de Tráfego', 'product_revenue': 'Receita Total'})\n",
    "\n",
    "traffic_medium_sales = df_products[df_products['traffic_medium'] != '(none)'].groupby('traffic_medium')['product_revenue'].sum().reset_index().sort_values(by='product_revenue', ascending=False)\n",
    "fig5 = px.bar(traffic_medium_sales, x='product_revenue', y='traffic_medium', orientation='h', title='Receita Total por Meio de Tráfego', labels={'traffic_medium': 'Meio de Tráfego', 'product_revenue': 'Receita Total'})\n",
    "\n",
    "traffic_campaign_sales = df_products[df_products['traffic_campaign'] != '(not set)'].groupby('traffic_campaign')['product_revenue'].sum().reset_index().sort_values(by='product_revenue', ascending=False)\n",
    "fig6 = px.bar(traffic_campaign_sales, x='product_revenue', y='traffic_campaign', orientation='h', title='Receita Total por Tráfego de Campanha', labels={'traffic_campaign': 'Tráfego de Campanha', 'product_revenue': 'Receita Total'})\n",
    "\n",
    "device_category_sales = df_products.groupby('device_category')['product_revenue'].sum().reset_index().sort_values(by='product_revenue', ascending=False)\n",
    "fig7 = px.bar(device_category_sales, x='product_revenue', y='device_category', orientation='h', title='Receita Total por Categoria de Dispositivo', labels={'device_category': 'Categoria de Dispositivo', 'product_revenue': 'Receita Total'})\n",
    "\n",
    "device_os_sales = df_products.groupby('device_os')['product_revenue'].sum().reset_index().sort_values(by='product_revenue', ascending=False)\n",
    "fig8 = px.bar(device_os_sales, x='product_revenue', y='device_os', orientation='h', title='Receita Total por Sistema Operacional do Dispositivo', labels={'device_os': 'Sistema Operacional do Dispositivo', 'product_revenue': 'Receita Total'})\n",
    "\n",
    "device_browser_sales = df_products.groupby('device_browser')['product_revenue'].sum().reset_index().sort_values(by='product_revenue', ascending=False)\n",
    "fig9 = px.bar(device_browser_sales, x='product_revenue', y='device_browser', orientation='h', title='Receita Total por Navegador do Dispositivo', labels={'device_browser': 'Navegador do Dispositivo', 'product_revenue': 'Receita Total'})\n",
    "\n",
    "device_is_mobile_sales = df_products.groupby('device_is_mobile')['product_revenue'].sum().reset_index()\n",
    "device_is_mobile_sales['device_is_mobile'] = device_is_mobile_sales['device_is_mobile'].map({True: 'Mobile', False: 'Desktop'})\n",
    "device_is_mobile_sales = device_is_mobile_sales.sort_values(by='product_revenue', ascending=False)\n",
    "fig10 = px.bar(device_is_mobile_sales, x='product_revenue', y='device_is_mobile', orientation='h', title='Receita Total por Tipo de Dispositivo', labels={'device_is_mobile': 'Tipo de Dispositivo', 'product_revenue': 'Receita Total'})\n",
    "\n",
    "# Iniciar a aplicação Dash\n",
    "app = dash.Dash(__name__)\n",
    "\n",
    "# Layout da aplicação Dash\n",
    "app.layout = html.Div([\n",
    "    html.H1(\"Dashboard de Análise de Vendas\"),\n",
    "    dcc.Tabs([\n",
    "        dcc.Tab(label='Receita por Categoria', children=[\n",
    "            dcc.Graph(id='fig1', figure=fig1)\n",
    "        ]),\n",
    "        dcc.Tab(label='Top 10 Produtos', children=[\n",
    "            dcc.Graph(id='fig2', figure=fig2)\n",
    "        ]),\n",
    "        dcc.Tab(label='Distribuição das Receitas', children=[\n",
    "            dcc.Graph(id='fig3', figure=fig3)\n",
    "        ]),\n",
    "        dcc.Tab(label='Receita por Fonte de Tráfego', children=[\n",
    "            dcc.Graph(id='fig4', figure=fig4)\n",
    "        ]),\n",
    "        dcc.Tab(label='Receita por Meio de Tráfego', children=[\n",
    "            dcc.Graph(id='fig5', figure=fig5)\n",
    "        ]),\n",
    "        dcc.Tab(label='Receita por Tráfego de Campanha', children=[\n",
    "            dcc.Graph(id='fig6', figure=fig6)\n",
    "        ]),\n",
    "        dcc.Tab(label='Receita por Categoria de Dispositivo', children=[\n",
    "            dcc.Graph(id='fig7', figure=fig7)\n",
    "        ]),\n",
    "        dcc.Tab(label='Receita por Sistema Operacional', children=[\n",
    "            dcc.Graph(id='fig8', figure=fig8)\n",
    "        ]),\n",
    "        dcc.Tab(label='Receita por Navegador', children=[\n",
    "            dcc.Graph(id='fig9', figure=fig9)\n",
    "        ]),\n",
    "        dcc.Tab(label='Receita por Tipo de Dispositivo', children=[\n",
    "            dcc.Graph(id='fig10', figure=fig10)\n",
    "        ]),\n",
    "        dcc.Tab(label='Mapa Interativo de Acessos e Compras', children=[\n",
    "            html.Div([\n",
    "                html.H2(\"Mapa Interativo de Acessos e Compras\"),\n",
    "                dcc.Checklist(\n",
    "                    id='filter_purchases',\n",
    "                    options=[{'label': 'Somente com Compras', 'value': 'purchases'}],\n",
    "                    value=[]\n",
    "                ),\n",
    "                html.Iframe(id='map', srcDoc=open('mapa_acessos.html', 'r').read(), width='100%', height='900')\n",
    "            ])\n",
    "        ])\n",
    "    ])\n",
    "])\n",
    "\n",
    "# Callback para atualizar o mapa com o filtro\n",
    "@app.callback(\n",
    "    Output('map', 'srcDoc'),\n",
    "    Input('filter_purchases', 'value')\n",
    ")\n",
    "\n",
    "def update_map(filter_values):\n",
    "    filtered_df = country_df\n",
    "    if 'purchases' in filter_values:\n",
    "        filtered_df = filtered_df[filtered_df['total_purchases'] > 0]\n",
    "\n",
    "    map_access = folium.Map(location=[0, 0], zoom_start=2.5)\n",
    "    heat_data = [[row['latitude'], row['longitude'], row['total_accesses']] for index, row in filtered_df.iterrows()]\n",
    "    HeatMap(heat_data).add_to(map_access)\n",
    "    map_access.save('filtered_map.html')\n",
    "    \n",
    "    return open('filtered_map.html', 'r').read()\n",
    "\n",
    "# Executar a aplicação\n",
    "if __name__ == '__main__':\n",
    "    app.run_server(debug=True)\n"
   ]
  }
 ],
 "metadata": {
  "kernelspec": {
   "display_name": "brius",
   "language": "python",
   "name": "python3"
  },
  "language_info": {
   "codemirror_mode": {
    "name": "ipython",
    "version": 3
   },
   "file_extension": ".py",
   "mimetype": "text/x-python",
   "name": "python",
   "nbconvert_exporter": "python",
   "pygments_lexer": "ipython3",
   "version": "3.12.4"
  }
 },
 "nbformat": 4,
 "nbformat_minor": 2
}
